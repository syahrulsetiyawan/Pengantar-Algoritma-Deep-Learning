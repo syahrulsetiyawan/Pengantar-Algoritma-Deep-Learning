{
 "cells": [
  {
   "cell_type": "code",
   "execution_count": 22,
   "metadata": {},
   "outputs": [],
   "source": [
    "import pandas as pd"
   ]
  },
  {
   "cell_type": "code",
   "execution_count": 23,
   "metadata": {},
   "outputs": [],
   "source": [
    "from matplotlib import pyplot as plt\n",
    "%matplotlib inline"
   ]
  },
  {
   "cell_type": "code",
   "execution_count": 24,
   "metadata": {},
   "outputs": [],
   "source": [
    "import seaborn as sns"
   ]
  },
  {
   "cell_type": "code",
   "execution_count": 25,
   "metadata": {},
   "outputs": [],
   "source": [
    "df1 = pd.read_csv(\"C:/Users/Syahrulls/Documents/Tgs Python/Tugas 2/Produksi_Pangan.csv\", index_col=0)"
   ]
  },
  {
   "cell_type": "code",
   "execution_count": 38,
   "metadata": {},
   "outputs": [
    {
     "data": {
      "text/html": [
       "<div>\n",
       "<style scoped>\n",
       "    .dataframe tbody tr th:only-of-type {\n",
       "        vertical-align: middle;\n",
       "    }\n",
       "\n",
       "    .dataframe tbody tr th {\n",
       "        vertical-align: top;\n",
       "    }\n",
       "\n",
       "    .dataframe thead th {\n",
       "        text-align: right;\n",
       "    }\n",
       "</style>\n",
       "<table border=\"1\" class=\"dataframe\">\n",
       "  <thead>\n",
       "    <tr style=\"text-align: right;\">\n",
       "      <th></th>\n",
       "      <th>Wilayah</th>\n",
       "      <th>2007</th>\n",
       "      <th>2008</th>\n",
       "      <th>2009</th>\n",
       "      <th>2010</th>\n",
       "      <th>2011</th>\n",
       "      <th>2012</th>\n",
       "      <th>2013</th>\n",
       "      <th>2014</th>\n",
       "      <th>2015</th>\n",
       "    </tr>\n",
       "    <tr>\n",
       "      <th>GEOID</th>\n",
       "      <th></th>\n",
       "      <th></th>\n",
       "      <th></th>\n",
       "      <th></th>\n",
       "      <th></th>\n",
       "      <th></th>\n",
       "      <th></th>\n",
       "      <th></th>\n",
       "      <th></th>\n",
       "      <th></th>\n",
       "    </tr>\n",
       "  </thead>\n",
       "  <tbody>\n",
       "    <tr>\n",
       "      <th>04000ID01</th>\n",
       "      <td>Sulawasi</td>\n",
       "      <td>37150</td>\n",
       "      <td>38765.0</td>\n",
       "      <td>42212.0</td>\n",
       "      <td>44476.0</td>\n",
       "      <td>39980.0</td>\n",
       "      <td>40933.0</td>\n",
       "      <td>42590.0</td>\n",
       "      <td>43464.0</td>\n",
       "      <td>40987.0</td>\n",
       "    </tr>\n",
       "    <tr>\n",
       "      <th>04000ID02</th>\n",
       "      <td>Jawa</td>\n",
       "      <td>55765</td>\n",
       "      <td>58763.0</td>\n",
       "      <td>62993.0</td>\n",
       "      <td>61235.0</td>\n",
       "      <td>64387.0</td>\n",
       "      <td>63451.0</td>\n",
       "      <td>59873.0</td>\n",
       "      <td>62817.0</td>\n",
       "      <td>66984.0</td>\n",
       "    </tr>\n",
       "    <tr>\n",
       "      <th>04000ID03</th>\n",
       "      <td>Kalimantan</td>\n",
       "      <td>45245</td>\n",
       "      <td>46657.0</td>\n",
       "      <td>47215.0</td>\n",
       "      <td>46914.0</td>\n",
       "      <td>45739.0</td>\n",
       "      <td>46896.0</td>\n",
       "      <td>48621.0</td>\n",
       "      <td>47044.0</td>\n",
       "      <td>50602.0</td>\n",
       "    </tr>\n",
       "    <tr>\n",
       "      <th>04000ID04</th>\n",
       "      <td>Papua</td>\n",
       "      <td>36658</td>\n",
       "      <td>37057.0</td>\n",
       "      <td>40795.0</td>\n",
       "      <td>39586.0</td>\n",
       "      <td>36538.0</td>\n",
       "      <td>38587.0</td>\n",
       "      <td>41302.0</td>\n",
       "      <td>39018.0</td>\n",
       "      <td>39919.0</td>\n",
       "    </tr>\n",
       "    <tr>\n",
       "      <th>04000ID05</th>\n",
       "      <td>Sumatra</td>\n",
       "      <td>51755</td>\n",
       "      <td>55319.0</td>\n",
       "      <td>54679.0</td>\n",
       "      <td>57014.0</td>\n",
       "      <td>56134.0</td>\n",
       "      <td>54283.0</td>\n",
       "      <td>55867.0</td>\n",
       "      <td>57020.0</td>\n",
       "      <td>59876.0</td>\n",
       "    </tr>\n",
       "  </tbody>\n",
       "</table>\n",
       "</div>"
      ],
      "text/plain": [
       "              Wilayah   2007     2008     2009     2010     2011     2012  \\\n",
       "GEOID                                                                       \n",
       "04000ID01    Sulawasi  37150  38765.0  42212.0  44476.0  39980.0  40933.0   \n",
       "04000ID02        Jawa  55765  58763.0  62993.0  61235.0  64387.0  63451.0   \n",
       "04000ID03  Kalimantan  45245  46657.0  47215.0  46914.0  45739.0  46896.0   \n",
       "04000ID04       Papua  36658  37057.0  40795.0  39586.0  36538.0  38587.0   \n",
       "04000ID05     Sumatra  51755  55319.0  54679.0  57014.0  56134.0  54283.0   \n",
       "\n",
       "              2013     2014     2015  \n",
       "GEOID                                 \n",
       "04000ID01  42590.0  43464.0  40987.0  \n",
       "04000ID02  59873.0  62817.0  66984.0  \n",
       "04000ID03  48621.0  47044.0  50602.0  \n",
       "04000ID04  41302.0  39018.0  39919.0  \n",
       "04000ID05  55867.0  57020.0  59876.0  "
      ]
     },
     "execution_count": 38,
     "metadata": {},
     "output_type": "execute_result"
    }
   ],
   "source": [
    "df1.head()"
   ]
  },
  {
   "cell_type": "code",
   "execution_count": 54,
   "metadata": {},
   "outputs": [
    {
     "data": {
      "text/plain": [
       "<seaborn.axisgrid.FacetGrid at 0x1c13a550ef0>"
      ]
     },
     "execution_count": 54,
     "metadata": {},
     "output_type": "execute_result"
    },
    {
     "data": {
      "image/png": "[encoded data removed]",
      "text/plain": [
       "<Figure size 360x360 with 1 Axes>"
      ]
     },
     "metadata": {
      "needs_background": "light"
     },
     "output_type": "display_data"
    }
   ],
   "source": [
    "sns.lmplot(x='2010', y='2015', data=df1)"
   ]
  },
  {
   "cell_type": "code",
   "execution_count": 56,
   "metadata": {},
   "outputs": [
    {
     "data": {
      "text/plain": [
       "<seaborn.axisgrid.FacetGrid at 0x1c13a60b6d8>"
      ]
     },
     "execution_count": 56,
     "metadata": {},
     "output_type": "execute_result"
    },
    {
     "data": {
      "image/png": "[encoded data removed]",
      "text/plain": [
       "<Figure size 437.25x360 with 1 Axes>"
      ]
     },
     "metadata": {
      "needs_background": "light"
     },
     "output_type": "display_data"
    }
   ],
   "source": [
    "sns.lmplot(x='2009', y='2012', data=df1,\n",
    "          fit_reg=False, #menghitung garis\n",
    "          hue='2015') #memberikan warna"
   ]
  },
  {
   "cell_type": "code",
   "execution_count": 57,
   "metadata": {
    "scrolled": true
   },
   "outputs": [
    {
     "data": {
      "text/plain": [
       "<matplotlib.axes._subplots.AxesSubplot at 0x1c13a60b438>"
      ]
     },
     "execution_count": 57,
     "metadata": {},
     "output_type": "execute_result"
    },
    {
     "data": {
      "image/png": "[encoded data removed]",
      "text/plain": [
       "<Figure size 432x288 with 1 Axes>"
      ]
     },
     "metadata": {
      "needs_background": "light"
     },
     "output_type": "display_data"
    }
   ],
   "source": [
    "sns.boxplot(data=df1)"
   ]
  },
  {
   "cell_type": "code",
   "execution_count": 58,
   "metadata": {},
   "outputs": [
    {
     "data": {
      "text/plain": [
       "<matplotlib.axes._subplots.AxesSubplot at 0x1c13a7472e8>"
      ]
     },
     "execution_count": 58,
     "metadata": {},
     "output_type": "execute_result"
    },
    {
     "data": {
      "image/png": "[encoded data removed]",
      "text/plain": [
       "<Figure size 432x288 with 1 Axes>"
      ]
     },
     "metadata": {
      "needs_background": "light"
     },
     "output_type": "display_data"
    }
   ],
   "source": [
    "#menghapus beberapa kolom\n",
    "stats_df1 = df1.drop(['2010', '2011'], axis=1)\n",
    "\n",
    "sns.boxplot(data=stats_df1)"
   ]
  },
  {
   "cell_type": "code",
   "execution_count": null,
   "metadata": {},
   "outputs": [],
   "source": []
  }
 ],
 "metadata": {
  "kernelspec": {
   "display_name": "Python 3",
   "language": "python",
   "name": "python3"
  },
  "language_info": {
   "codemirror_mode": {
    "name": "ipython",
    "version": 3
   },
   "file_extension": ".py",
   "mimetype": "text/x-python",
   "name": "python",
   "nbconvert_exporter": "python",
   "pygments_lexer": "ipython3",
   "version": "3.6.2"
  }
 },
 "nbformat": 4,
 "nbformat_minor": 2
}
